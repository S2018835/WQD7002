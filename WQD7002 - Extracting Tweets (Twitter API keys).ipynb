{
 "cells": [
  {
   "cell_type": "code",
   "execution_count": 1,
   "id": "bc000d57",
   "metadata": {},
   "outputs": [],
   "source": [
    "import pandas as pd\n",
    "import numpy as np\n",
    "import tweepy"
   ]
  },
  {
   "cell_type": "code",
   "execution_count": 2,
   "id": "db1867d8",
   "metadata": {},
   "outputs": [],
   "source": [
    "consumer_key    = 'Mx3SMeu9R9iOhhgPzSibtv4eE'\n",
    "consumer_secret = 'PKnx7jBiwLkz6nWohxEJcfvw4Qjc85RVevTarN8axmfmWIukgK'\n",
    "\n",
    "access_token  = '1442047554493894659-e5f7pmkUD5jmBmt8UxCE2ffYtDQaQp'\n",
    "access_token_secret = 'jKBeQ5CvvjWcDEDG2P9axlJJl8HXjvZOvZYmGfMY6WE9W'\n",
    "\n",
    "auth = tweepy.OAuthHandler(consumer_key, consumer_secret)\n",
    "auth.set_access_token(access_token, access_token_secret)\n",
    "api = tweepy.API(auth,wait_on_rate_limit=True)"
   ]
  },
  {
   "cell_type": "code",
   "execution_count": 3,
   "id": "0d7c109a",
   "metadata": {},
   "outputs": [
    {
     "name": "stdout",
     "output_type": "stream",
     "text": [
      "Please enter keyword or hashtag to search: bitcoin\n",
      "Please enter how many tweets to analyze: 10\n"
     ]
    }
   ],
   "source": [
    "keyword = input(\"Please enter keyword or hashtag to search: \")\n",
    "noOfTweet = int(input (\"Please enter how many tweets to analyze: \"))\n",
    "\n",
    "\n",
    "fetch_tweets = tweepy.Cursor(api.search_tweets, q=keyword, lang = 'en', tweet_mode = 'extended').items(noOfTweet)\n",
    "tweets_list = pd.DataFrame(data=[[tweet_info.created_at.date(),tweet_info.full_text]for tweet_info in fetch_tweets], columns = ['Date','Tweets'])"
   ]
  },
  {
   "cell_type": "code",
   "execution_count": 4,
   "id": "b1ff2de5",
   "metadata": {},
   "outputs": [
    {
     "data": {
      "text/html": [
       "<div>\n",
       "<style scoped>\n",
       "    .dataframe tbody tr th:only-of-type {\n",
       "        vertical-align: middle;\n",
       "    }\n",
       "\n",
       "    .dataframe tbody tr th {\n",
       "        vertical-align: top;\n",
       "    }\n",
       "\n",
       "    .dataframe thead th {\n",
       "        text-align: right;\n",
       "    }\n",
       "</style>\n",
       "<table border=\"1\" class=\"dataframe\">\n",
       "  <thead>\n",
       "    <tr style=\"text-align: right;\">\n",
       "      <th></th>\n",
       "      <th>Date</th>\n",
       "      <th>Tweets</th>\n",
       "    </tr>\n",
       "  </thead>\n",
       "  <tbody>\n",
       "    <tr>\n",
       "      <th>0</th>\n",
       "      <td>2022-06-21</td>\n",
       "      <td>Bitcoin bounce is leading crypto to higher gro...</td>\n",
       "    </tr>\n",
       "    <tr>\n",
       "      <th>1</th>\n",
       "      <td>2022-06-21</td>\n",
       "      <td>RT @cz_binance: $BTC Price On This Day - Jun 2...</td>\n",
       "    </tr>\n",
       "    <tr>\n",
       "      <th>2</th>\n",
       "      <td>2022-06-21</td>\n",
       "      <td>RT @CryptoFaibik: Join Our Telegram Channels\\n...</td>\n",
       "    </tr>\n",
       "    <tr>\n",
       "      <th>3</th>\n",
       "      <td>2022-06-21</td>\n",
       "      <td>RT @keexiah7: Everything in life is a reflecti...</td>\n",
       "    </tr>\n",
       "    <tr>\n",
       "      <th>4</th>\n",
       "      <td>2022-06-21</td>\n",
       "      <td>RT @bkex_jm: You will continue to support ____...</td>\n",
       "    </tr>\n",
       "    <tr>\n",
       "      <th>5</th>\n",
       "      <td>2022-06-21</td>\n",
       "      <td>RT @MacroAlf: Avocados are better at hedging i...</td>\n",
       "    </tr>\n",
       "    <tr>\n",
       "      <th>6</th>\n",
       "      <td>2022-06-21</td>\n",
       "      <td>RT @VeilleCyber3: Why #Sentience is the wrong ...</td>\n",
       "    </tr>\n",
       "    <tr>\n",
       "      <th>7</th>\n",
       "      <td>2022-06-21</td>\n",
       "      <td>RT @ZBexchange: Morning, looks like it's gonna...</td>\n",
       "    </tr>\n",
       "    <tr>\n",
       "      <th>8</th>\n",
       "      <td>2022-06-21</td>\n",
       "      <td>FUN FACT: 11 years ago today #Bitcoin was $0.0...</td>\n",
       "    </tr>\n",
       "    <tr>\n",
       "      <th>9</th>\n",
       "      <td>2022-06-21</td>\n",
       "      <td>#Bitcoin Get Ready👇👇👇\\n\\nJoin now - https://t....</td>\n",
       "    </tr>\n",
       "  </tbody>\n",
       "</table>\n",
       "</div>"
      ],
      "text/plain": [
       "         Date                                             Tweets\n",
       "0  2022-06-21  Bitcoin bounce is leading crypto to higher gro...\n",
       "1  2022-06-21  RT @cz_binance: $BTC Price On This Day - Jun 2...\n",
       "2  2022-06-21  RT @CryptoFaibik: Join Our Telegram Channels\\n...\n",
       "3  2022-06-21  RT @keexiah7: Everything in life is a reflecti...\n",
       "4  2022-06-21  RT @bkex_jm: You will continue to support ____...\n",
       "5  2022-06-21  RT @MacroAlf: Avocados are better at hedging i...\n",
       "6  2022-06-21  RT @VeilleCyber3: Why #Sentience is the wrong ...\n",
       "7  2022-06-21  RT @ZBexchange: Morning, looks like it's gonna...\n",
       "8  2022-06-21  FUN FACT: 11 years ago today #Bitcoin was $0.0...\n",
       "9  2022-06-21  #Bitcoin Get Ready👇👇👇\\n\\nJoin now - https://t...."
      ]
     },
     "execution_count": 4,
     "metadata": {},
     "output_type": "execute_result"
    }
   ],
   "source": [
    "tweets_list"
   ]
  }
 ],
 "metadata": {
  "kernelspec": {
   "display_name": "Python 3 (ipykernel)",
   "language": "python",
   "name": "python3"
  },
  "language_info": {
   "codemirror_mode": {
    "name": "ipython",
    "version": 3
   },
   "file_extension": ".py",
   "mimetype": "text/x-python",
   "name": "python",
   "nbconvert_exporter": "python",
   "pygments_lexer": "ipython3",
   "version": "3.8.12"
  }
 },
 "nbformat": 4,
 "nbformat_minor": 5
}
